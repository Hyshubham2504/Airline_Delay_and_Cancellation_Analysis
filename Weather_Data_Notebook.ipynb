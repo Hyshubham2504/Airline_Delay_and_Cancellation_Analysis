{
  "nbformat": 4,
  "nbformat_minor": 0,
  "metadata": {
    "colab": {
      "provenance": [],
      "authorship_tag": "ABX9TyMWdiGuhCcnaDGCu6p4qKLf"
    },
    "kernelspec": {
      "name": "python3",
      "display_name": "Python 3"
    },
    "language_info": {
      "name": "python"
    }
  },
  "cells": [
    {
      "cell_type": "code",
      "execution_count": 1,
      "metadata": {
        "colab": {
          "base_uri": "https://localhost:8080/"
        },
        "id": "9Gskc9Bbfsn_",
        "outputId": "e50c0258-50b4-490c-98e6-7ee1fa0fb6ee"
      },
      "outputs": [
        {
          "output_type": "stream",
          "name": "stdout",
          "text": [
            "Mounted at /content/drive\n"
          ]
        }
      ],
      "source": [
        "#mount the Google Drive to the Colaboratory runtime\n",
        "from google.colab import drive\n",
        "drive.mount('/content/drive')"
      ]
    },
    {
      "cell_type": "code",
      "source": [
        "import pandas as pd\n",
        "import numpy as np\n",
        "from sklearn.metrics import confusion_matrix, ConfusionMatrixDisplay\n",
        "# evaluating the performance of machine learning models\n",
        "from sklearn.metrics import accuracy_score\n",
        "from sklearn.metrics import brier_score_loss\n",
        "import matplotlib.pyplot as plt #For creating visualizations in Python\n",
        "from statsmodels.tsa.seasonal import seasonal_decompose\n",
        "from statsmodels.tsa.arima.model import ARIMA\n",
        "#!pip install scikit-learn==1.0.1"
      ],
      "metadata": {
        "id": "PHrlvfrog9Va"
      },
      "execution_count": 2,
      "outputs": []
    },
    {
      "cell_type": "code",
      "source": [
        "data_2015 = pd.read_csv(\"/content/drive/My Drive/2015.csv\")"
      ],
      "metadata": {
        "id": "xQ8wwzqks0fv"
      },
      "execution_count": 5,
      "outputs": []
    },
    {
      "cell_type": "code",
      "source": [
        "data_2015.shape"
      ],
      "metadata": {
        "colab": {
          "base_uri": "https://localhost:8080/"
        },
        "id": "ttamGV2IoJUY",
        "outputId": "c5afafb3-5c68-4eb0-d0a4-234ce7b7cc79"
      },
      "execution_count": 6,
      "outputs": [
        {
          "output_type": "execute_result",
          "data": {
            "text/plain": [
              "(5819079, 28)"
            ]
          },
          "metadata": {},
          "execution_count": 6
        }
      ]
    },
    {
      "cell_type": "code",
      "source": [
        "data_2015.info()"
      ],
      "metadata": {
        "id": "GQW94i35jcKB",
        "colab": {
          "base_uri": "https://localhost:8080/"
        },
        "outputId": "b5cddebd-2194-45cf-89fe-ca92f4b13879"
      },
      "execution_count": 7,
      "outputs": [
        {
          "output_type": "stream",
          "name": "stdout",
          "text": [
            "<class 'pandas.core.frame.DataFrame'>\n",
            "RangeIndex: 5819079 entries, 0 to 5819078\n",
            "Data columns (total 28 columns):\n",
            " #   Column               Dtype  \n",
            "---  ------               -----  \n",
            " 0   FL_DATE              object \n",
            " 1   OP_CARRIER           object \n",
            " 2   OP_CARRIER_FL_NUM    int64  \n",
            " 3   ORIGIN               object \n",
            " 4   DEST                 object \n",
            " 5   CRS_DEP_TIME         int64  \n",
            " 6   DEP_TIME             float64\n",
            " 7   DEP_DELAY            float64\n",
            " 8   TAXI_OUT             float64\n",
            " 9   WHEELS_OFF           float64\n",
            " 10  WHEELS_ON            float64\n",
            " 11  TAXI_IN              float64\n",
            " 12  CRS_ARR_TIME         int64  \n",
            " 13  ARR_TIME             float64\n",
            " 14  ARR_DELAY            float64\n",
            " 15  CANCELLED            float64\n",
            " 16  CANCELLATION_CODE    object \n",
            " 17  DIVERTED             float64\n",
            " 18  CRS_ELAPSED_TIME     float64\n",
            " 19  ACTUAL_ELAPSED_TIME  float64\n",
            " 20  AIR_TIME             float64\n",
            " 21  DISTANCE             float64\n",
            " 22  CARRIER_DELAY        float64\n",
            " 23  WEATHER_DELAY        float64\n",
            " 24  NAS_DELAY            float64\n",
            " 25  SECURITY_DELAY       float64\n",
            " 26  LATE_AIRCRAFT_DELAY  float64\n",
            " 27  Unnamed: 27          float64\n",
            "dtypes: float64(20), int64(3), object(5)\n",
            "memory usage: 1.2+ GB\n"
          ]
        }
      ]
    },
    {
      "cell_type": "code",
      "source": [
        "data_2015.columns"
      ],
      "metadata": {
        "id": "jkO4wY2-1tUw",
        "colab": {
          "base_uri": "https://localhost:8080/"
        },
        "outputId": "fdc5c2d5-7c79-4380-a21c-b43e7937654f"
      },
      "execution_count": 9,
      "outputs": [
        {
          "output_type": "execute_result",
          "data": {
            "text/plain": [
              "Index(['FL_DATE', 'OP_CARRIER', 'OP_CARRIER_FL_NUM', 'ORIGIN', 'DEST',\n",
              "       'CRS_DEP_TIME', 'DEP_TIME', 'DEP_DELAY', 'TAXI_OUT', 'WHEELS_OFF',\n",
              "       'WHEELS_ON', 'TAXI_IN', 'CRS_ARR_TIME', 'ARR_TIME', 'ARR_DELAY',\n",
              "       'CANCELLED', 'CANCELLATION_CODE', 'DIVERTED', 'CRS_ELAPSED_TIME',\n",
              "       'ACTUAL_ELAPSED_TIME', 'AIR_TIME', 'DISTANCE', 'CARRIER_DELAY',\n",
              "       'WEATHER_DELAY', 'NAS_DELAY', 'SECURITY_DELAY', 'LATE_AIRCRAFT_DELAY',\n",
              "       'Unnamed: 27'],\n",
              "      dtype='object')"
            ]
          },
          "metadata": {},
          "execution_count": 9
        }
      ]
    },
    {
      "cell_type": "code",
      "source": [
        "!pip install meteostat"
      ],
      "metadata": {
        "colab": {
          "base_uri": "https://localhost:8080/"
        },
        "id": "61EYzEko43Ui",
        "outputId": "b8f0f455-1006-4ed6-f598-436d757f6bdc"
      },
      "execution_count": 10,
      "outputs": [
        {
          "output_type": "stream",
          "name": "stdout",
          "text": [
            "Collecting meteostat\n",
            "  Downloading meteostat-1.6.7-py3-none-any.whl (31 kB)\n",
            "Requirement already satisfied: pandas>=1.1 in /usr/local/lib/python3.10/dist-packages (from meteostat) (2.0.3)\n",
            "Requirement already satisfied: pytz in /usr/local/lib/python3.10/dist-packages (from meteostat) (2023.4)\n",
            "Requirement already satisfied: numpy in /usr/local/lib/python3.10/dist-packages (from meteostat) (1.25.2)\n",
            "Requirement already satisfied: python-dateutil>=2.8.2 in /usr/local/lib/python3.10/dist-packages (from pandas>=1.1->meteostat) (2.8.2)\n",
            "Requirement already satisfied: tzdata>=2022.1 in /usr/local/lib/python3.10/dist-packages (from pandas>=1.1->meteostat) (2024.1)\n",
            "Requirement already satisfied: six>=1.5 in /usr/local/lib/python3.10/dist-packages (from python-dateutil>=2.8.2->pandas>=1.1->meteostat) (1.16.0)\n",
            "Installing collected packages: meteostat\n",
            "Successfully installed meteostat-1.6.7\n"
          ]
        }
      ]
    },
    {
      "cell_type": "code",
      "source": [
        "from datetime import datetime\n",
        "from meteostat import Point\n",
        "from meteostat import Hourly\n",
        "from meteostat import Daily\n",
        "from meteostat import Monthly\n",
        "\n",
        "from prophet import Prophet\n",
        "import matplotlib.pyplot as plt\n",
        "import warnings\n",
        "warnings.filterwarnings('ignore')\n",
        "from sklearn.metrics import mean_absolute_error"
      ],
      "metadata": {
        "id": "oE71Wjti7zfy"
      },
      "execution_count": 11,
      "outputs": []
    },
    {
      "cell_type": "code",
      "source": [
        "#Reading the file for all the airports and coordinates fetch from Kaggle\n",
        "Airport_Locations = pd.read_csv(\"/content/drive/MyDrive/Airport_Locations.csv\")"
      ],
      "metadata": {
        "id": "8Fu4zk0iOzDK"
      },
      "execution_count": 13,
      "outputs": []
    },
    {
      "cell_type": "code",
      "source": [
        "def fetch_daily_weather_data(Airport_Locations, start_date, end_date):\n",
        "    \"\"\"\n",
        "    Fetch daily weather data for each airport listed in the Airport_Locations dataset.\n",
        "\n",
        "    Parameters:\n",
        "        airport_locations_df (DataFrame): DataFrame containing airport codes, latitude, and longitude.\n",
        "        start_date (datetime): Start date for the weather data retrieval.\n",
        "        end_date (datetime): End date for the weather data retrieval.\n",
        "\n",
        "    Returns:\n",
        "        DataFrame: DataFrame containing daily weather data for each airport.\n",
        "    \"\"\"\n",
        "    # Initialize an empty list to store weather data for each airport\n",
        "    airport_weather_data = []\n",
        "\n",
        "    # Iterate over each row of the Airport_Locations DataFrame\n",
        "    for index, row in Airport_Locations.iterrows():\n",
        "        # Extract airport code, latitude, and longitude from the current row\n",
        "        airport_code = row['Airport Code']\n",
        "        latitude = row['Latitude']\n",
        "        longitude = row['Longitude']\n",
        "\n",
        "        # Create Point object for the airport location\n",
        "        airport_point = Point(latitude, longitude)\n",
        "\n",
        "        # Fetch daily weather data for the airport location\n",
        "        airport_weather = Daily(airport_point, start=start_date, end=end_date)\n",
        "        airport_weather = airport_weather.fetch()\n",
        "\n",
        "        # Add airport code to each daily weather data record\n",
        "        airport_weather['Airport Code'] = airport_code\n",
        "\n",
        "        # Append the airport weather data to the list\n",
        "        airport_weather_data.append(airport_weather)\n",
        "\n",
        "    # Concatenate the list of DataFrames into a single DataFrame\n",
        "    airport_weather_df = pd.concat(airport_weather_data)\n",
        "\n",
        "    return airport_weather_df\n",
        "\n",
        "# Example usage:\n",
        "# Set time period\n",
        "start_date = datetime(2015, 1, 1)\n",
        "end_date = datetime(2015, 12, 31)\n",
        "\n",
        "# Fetch daily weather data for each airport in Airport_Locations dataset\n",
        "airport_weather_dataset = fetch_daily_weather_data(Airport_Locations, start_date, end_date)\n",
        "\n",
        "# Display the resulting dataset\n",
        "print(airport_weather_dataset)"
      ],
      "metadata": {
        "id": "_WDZv07xQZx9",
        "colab": {
          "base_uri": "https://localhost:8080/"
        },
        "outputId": "27b2dbd3-dda4-4e1d-dac6-e5f9c9d43f85"
      },
      "execution_count": 14,
      "outputs": [
        {
          "output_type": "stream",
          "name": "stdout",
          "text": [
            "            tavg  tmin  tmax  prcp  snow   wdir  wspd  wpgt    pres  tsun  \\\n",
            "2015-01-01   1.7  -2.7   8.3   0.0   0.0  210.0  13.3   NaN  1021.6   NaN   \n",
            "2015-01-02   5.3   1.7   9.4   0.0   0.0    NaN   4.7   NaN  1025.5   NaN   \n",
            "2015-01-03   4.0   1.1   5.6  12.7   0.0    NaN   5.4   NaN     NaN   NaN   \n",
            "2015-01-04   9.8   5.6  19.4   5.1   0.0  209.0  20.2   NaN  1012.5   NaN   \n",
            "2015-01-05   7.8  -1.6  11.1   0.0   0.0  310.0  23.0   NaN  1025.3   NaN   \n",
            "...          ...   ...   ...   ...   ...    ...   ...   ...     ...   ...   \n",
            "2015-12-26   5.5  -1.1   8.3   NaN   NaN   27.0  15.6   NaN  1016.7   NaN   \n",
            "2015-12-27  -2.5  -3.3  -1.1   0.0   NaN   22.0  27.0   NaN  1027.8   NaN   \n",
            "2015-12-28  -4.8  -6.1  -2.8   NaN   NaN    NaN  18.5   NaN     NaN   NaN   \n",
            "2015-12-29  -4.8 -10.6  -1.1   0.0   NaN    NaN   3.7   NaN  1020.5   NaN   \n",
            "2015-12-30  -2.2  -5.0   0.0   0.0   NaN    NaN   2.6   NaN  1026.1   NaN   \n",
            "\n",
            "           Airport Code  \n",
            "2015-01-01          DCA  \n",
            "2015-01-02          DCA  \n",
            "2015-01-03          DCA  \n",
            "2015-01-04          DCA  \n",
            "2015-01-05          DCA  \n",
            "...                 ...  \n",
            "2015-12-26          MHK  \n",
            "2015-12-27          MHK  \n",
            "2015-12-28          MHK  \n",
            "2015-12-29          MHK  \n",
            "2015-12-30          MHK  \n",
            "\n",
            "[102486 rows x 11 columns]\n"
          ]
        }
      ]
    },
    {
      "cell_type": "code",
      "source": [
        "airport_weather_dataset.head()"
      ],
      "metadata": {
        "colab": {
          "base_uri": "https://localhost:8080/",
          "height": 206
        },
        "id": "NqNgjn9Bed3E",
        "outputId": "6c04d389-447a-4d97-a103-c041bb2cb612"
      },
      "execution_count": 15,
      "outputs": [
        {
          "output_type": "execute_result",
          "data": {
            "text/plain": [
              "            tavg  tmin  tmax  prcp  snow   wdir  wspd  wpgt    pres  tsun  \\\n",
              "2015-01-01   1.7  -2.7   8.3   0.0   0.0  210.0  13.3   NaN  1021.6   NaN   \n",
              "2015-01-02   5.3   1.7   9.4   0.0   0.0    NaN   4.7   NaN  1025.5   NaN   \n",
              "2015-01-03   4.0   1.1   5.6  12.7   0.0    NaN   5.4   NaN     NaN   NaN   \n",
              "2015-01-04   9.8   5.6  19.4   5.1   0.0  209.0  20.2   NaN  1012.5   NaN   \n",
              "2015-01-05   7.8  -1.6  11.1   0.0   0.0  310.0  23.0   NaN  1025.3   NaN   \n",
              "\n",
              "           Airport Code  \n",
              "2015-01-01          DCA  \n",
              "2015-01-02          DCA  \n",
              "2015-01-03          DCA  \n",
              "2015-01-04          DCA  \n",
              "2015-01-05          DCA  "
            ],
            "text/html": [
              "\n",
              "  <div id=\"df-ae5d3bca-89f6-4692-8c47-e4c7642de282\" class=\"colab-df-container\">\n",
              "    <div>\n",
              "<style scoped>\n",
              "    .dataframe tbody tr th:only-of-type {\n",
              "        vertical-align: middle;\n",
              "    }\n",
              "\n",
              "    .dataframe tbody tr th {\n",
              "        vertical-align: top;\n",
              "    }\n",
              "\n",
              "    .dataframe thead th {\n",
              "        text-align: right;\n",
              "    }\n",
              "</style>\n",
              "<table border=\"1\" class=\"dataframe\">\n",
              "  <thead>\n",
              "    <tr style=\"text-align: right;\">\n",
              "      <th></th>\n",
              "      <th>tavg</th>\n",
              "      <th>tmin</th>\n",
              "      <th>tmax</th>\n",
              "      <th>prcp</th>\n",
              "      <th>snow</th>\n",
              "      <th>wdir</th>\n",
              "      <th>wspd</th>\n",
              "      <th>wpgt</th>\n",
              "      <th>pres</th>\n",
              "      <th>tsun</th>\n",
              "      <th>Airport Code</th>\n",
              "    </tr>\n",
              "  </thead>\n",
              "  <tbody>\n",
              "    <tr>\n",
              "      <th>2015-01-01</th>\n",
              "      <td>1.7</td>\n",
              "      <td>-2.7</td>\n",
              "      <td>8.3</td>\n",
              "      <td>0.0</td>\n",
              "      <td>0.0</td>\n",
              "      <td>210.0</td>\n",
              "      <td>13.3</td>\n",
              "      <td>NaN</td>\n",
              "      <td>1021.6</td>\n",
              "      <td>NaN</td>\n",
              "      <td>DCA</td>\n",
              "    </tr>\n",
              "    <tr>\n",
              "      <th>2015-01-02</th>\n",
              "      <td>5.3</td>\n",
              "      <td>1.7</td>\n",
              "      <td>9.4</td>\n",
              "      <td>0.0</td>\n",
              "      <td>0.0</td>\n",
              "      <td>NaN</td>\n",
              "      <td>4.7</td>\n",
              "      <td>NaN</td>\n",
              "      <td>1025.5</td>\n",
              "      <td>NaN</td>\n",
              "      <td>DCA</td>\n",
              "    </tr>\n",
              "    <tr>\n",
              "      <th>2015-01-03</th>\n",
              "      <td>4.0</td>\n",
              "      <td>1.1</td>\n",
              "      <td>5.6</td>\n",
              "      <td>12.7</td>\n",
              "      <td>0.0</td>\n",
              "      <td>NaN</td>\n",
              "      <td>5.4</td>\n",
              "      <td>NaN</td>\n",
              "      <td>NaN</td>\n",
              "      <td>NaN</td>\n",
              "      <td>DCA</td>\n",
              "    </tr>\n",
              "    <tr>\n",
              "      <th>2015-01-04</th>\n",
              "      <td>9.8</td>\n",
              "      <td>5.6</td>\n",
              "      <td>19.4</td>\n",
              "      <td>5.1</td>\n",
              "      <td>0.0</td>\n",
              "      <td>209.0</td>\n",
              "      <td>20.2</td>\n",
              "      <td>NaN</td>\n",
              "      <td>1012.5</td>\n",
              "      <td>NaN</td>\n",
              "      <td>DCA</td>\n",
              "    </tr>\n",
              "    <tr>\n",
              "      <th>2015-01-05</th>\n",
              "      <td>7.8</td>\n",
              "      <td>-1.6</td>\n",
              "      <td>11.1</td>\n",
              "      <td>0.0</td>\n",
              "      <td>0.0</td>\n",
              "      <td>310.0</td>\n",
              "      <td>23.0</td>\n",
              "      <td>NaN</td>\n",
              "      <td>1025.3</td>\n",
              "      <td>NaN</td>\n",
              "      <td>DCA</td>\n",
              "    </tr>\n",
              "  </tbody>\n",
              "</table>\n",
              "</div>\n",
              "    <div class=\"colab-df-buttons\">\n",
              "\n",
              "  <div class=\"colab-df-container\">\n",
              "    <button class=\"colab-df-convert\" onclick=\"convertToInteractive('df-ae5d3bca-89f6-4692-8c47-e4c7642de282')\"\n",
              "            title=\"Convert this dataframe to an interactive table.\"\n",
              "            style=\"display:none;\">\n",
              "\n",
              "  <svg xmlns=\"http://www.w3.org/2000/svg\" height=\"24px\" viewBox=\"0 -960 960 960\">\n",
              "    <path d=\"M120-120v-720h720v720H120Zm60-500h600v-160H180v160Zm220 220h160v-160H400v160Zm0 220h160v-160H400v160ZM180-400h160v-160H180v160Zm440 0h160v-160H620v160ZM180-180h160v-160H180v160Zm440 0h160v-160H620v160Z\"/>\n",
              "  </svg>\n",
              "    </button>\n",
              "\n",
              "  <style>\n",
              "    .colab-df-container {\n",
              "      display:flex;\n",
              "      gap: 12px;\n",
              "    }\n",
              "\n",
              "    .colab-df-convert {\n",
              "      background-color: #E8F0FE;\n",
              "      border: none;\n",
              "      border-radius: 50%;\n",
              "      cursor: pointer;\n",
              "      display: none;\n",
              "      fill: #1967D2;\n",
              "      height: 32px;\n",
              "      padding: 0 0 0 0;\n",
              "      width: 32px;\n",
              "    }\n",
              "\n",
              "    .colab-df-convert:hover {\n",
              "      background-color: #E2EBFA;\n",
              "      box-shadow: 0px 1px 2px rgba(60, 64, 67, 0.3), 0px 1px 3px 1px rgba(60, 64, 67, 0.15);\n",
              "      fill: #174EA6;\n",
              "    }\n",
              "\n",
              "    .colab-df-buttons div {\n",
              "      margin-bottom: 4px;\n",
              "    }\n",
              "\n",
              "    [theme=dark] .colab-df-convert {\n",
              "      background-color: #3B4455;\n",
              "      fill: #D2E3FC;\n",
              "    }\n",
              "\n",
              "    [theme=dark] .colab-df-convert:hover {\n",
              "      background-color: #434B5C;\n",
              "      box-shadow: 0px 1px 3px 1px rgba(0, 0, 0, 0.15);\n",
              "      filter: drop-shadow(0px 1px 2px rgba(0, 0, 0, 0.3));\n",
              "      fill: #FFFFFF;\n",
              "    }\n",
              "  </style>\n",
              "\n",
              "    <script>\n",
              "      const buttonEl =\n",
              "        document.querySelector('#df-ae5d3bca-89f6-4692-8c47-e4c7642de282 button.colab-df-convert');\n",
              "      buttonEl.style.display =\n",
              "        google.colab.kernel.accessAllowed ? 'block' : 'none';\n",
              "\n",
              "      async function convertToInteractive(key) {\n",
              "        const element = document.querySelector('#df-ae5d3bca-89f6-4692-8c47-e4c7642de282');\n",
              "        const dataTable =\n",
              "          await google.colab.kernel.invokeFunction('convertToInteractive',\n",
              "                                                    [key], {});\n",
              "        if (!dataTable) return;\n",
              "\n",
              "        const docLinkHtml = 'Like what you see? Visit the ' +\n",
              "          '<a target=\"_blank\" href=https://colab.research.google.com/notebooks/data_table.ipynb>data table notebook</a>'\n",
              "          + ' to learn more about interactive tables.';\n",
              "        element.innerHTML = '';\n",
              "        dataTable['output_type'] = 'display_data';\n",
              "        await google.colab.output.renderOutput(dataTable, element);\n",
              "        const docLink = document.createElement('div');\n",
              "        docLink.innerHTML = docLinkHtml;\n",
              "        element.appendChild(docLink);\n",
              "      }\n",
              "    </script>\n",
              "  </div>\n",
              "\n",
              "\n",
              "<div id=\"df-3c90e43b-58ec-49a2-902e-4a45683e8402\">\n",
              "  <button class=\"colab-df-quickchart\" onclick=\"quickchart('df-3c90e43b-58ec-49a2-902e-4a45683e8402')\"\n",
              "            title=\"Suggest charts\"\n",
              "            style=\"display:none;\">\n",
              "\n",
              "<svg xmlns=\"http://www.w3.org/2000/svg\" height=\"24px\"viewBox=\"0 0 24 24\"\n",
              "     width=\"24px\">\n",
              "    <g>\n",
              "        <path d=\"M19 3H5c-1.1 0-2 .9-2 2v14c0 1.1.9 2 2 2h14c1.1 0 2-.9 2-2V5c0-1.1-.9-2-2-2zM9 17H7v-7h2v7zm4 0h-2V7h2v10zm4 0h-2v-4h2v4z\"/>\n",
              "    </g>\n",
              "</svg>\n",
              "  </button>\n",
              "\n",
              "<style>\n",
              "  .colab-df-quickchart {\n",
              "      --bg-color: #E8F0FE;\n",
              "      --fill-color: #1967D2;\n",
              "      --hover-bg-color: #E2EBFA;\n",
              "      --hover-fill-color: #174EA6;\n",
              "      --disabled-fill-color: #AAA;\n",
              "      --disabled-bg-color: #DDD;\n",
              "  }\n",
              "\n",
              "  [theme=dark] .colab-df-quickchart {\n",
              "      --bg-color: #3B4455;\n",
              "      --fill-color: #D2E3FC;\n",
              "      --hover-bg-color: #434B5C;\n",
              "      --hover-fill-color: #FFFFFF;\n",
              "      --disabled-bg-color: #3B4455;\n",
              "      --disabled-fill-color: #666;\n",
              "  }\n",
              "\n",
              "  .colab-df-quickchart {\n",
              "    background-color: var(--bg-color);\n",
              "    border: none;\n",
              "    border-radius: 50%;\n",
              "    cursor: pointer;\n",
              "    display: none;\n",
              "    fill: var(--fill-color);\n",
              "    height: 32px;\n",
              "    padding: 0;\n",
              "    width: 32px;\n",
              "  }\n",
              "\n",
              "  .colab-df-quickchart:hover {\n",
              "    background-color: var(--hover-bg-color);\n",
              "    box-shadow: 0 1px 2px rgba(60, 64, 67, 0.3), 0 1px 3px 1px rgba(60, 64, 67, 0.15);\n",
              "    fill: var(--button-hover-fill-color);\n",
              "  }\n",
              "\n",
              "  .colab-df-quickchart-complete:disabled,\n",
              "  .colab-df-quickchart-complete:disabled:hover {\n",
              "    background-color: var(--disabled-bg-color);\n",
              "    fill: var(--disabled-fill-color);\n",
              "    box-shadow: none;\n",
              "  }\n",
              "\n",
              "  .colab-df-spinner {\n",
              "    border: 2px solid var(--fill-color);\n",
              "    border-color: transparent;\n",
              "    border-bottom-color: var(--fill-color);\n",
              "    animation:\n",
              "      spin 1s steps(1) infinite;\n",
              "  }\n",
              "\n",
              "  @keyframes spin {\n",
              "    0% {\n",
              "      border-color: transparent;\n",
              "      border-bottom-color: var(--fill-color);\n",
              "      border-left-color: var(--fill-color);\n",
              "    }\n",
              "    20% {\n",
              "      border-color: transparent;\n",
              "      border-left-color: var(--fill-color);\n",
              "      border-top-color: var(--fill-color);\n",
              "    }\n",
              "    30% {\n",
              "      border-color: transparent;\n",
              "      border-left-color: var(--fill-color);\n",
              "      border-top-color: var(--fill-color);\n",
              "      border-right-color: var(--fill-color);\n",
              "    }\n",
              "    40% {\n",
              "      border-color: transparent;\n",
              "      border-right-color: var(--fill-color);\n",
              "      border-top-color: var(--fill-color);\n",
              "    }\n",
              "    60% {\n",
              "      border-color: transparent;\n",
              "      border-right-color: var(--fill-color);\n",
              "    }\n",
              "    80% {\n",
              "      border-color: transparent;\n",
              "      border-right-color: var(--fill-color);\n",
              "      border-bottom-color: var(--fill-color);\n",
              "    }\n",
              "    90% {\n",
              "      border-color: transparent;\n",
              "      border-bottom-color: var(--fill-color);\n",
              "    }\n",
              "  }\n",
              "</style>\n",
              "\n",
              "  <script>\n",
              "    async function quickchart(key) {\n",
              "      const quickchartButtonEl =\n",
              "        document.querySelector('#' + key + ' button');\n",
              "      quickchartButtonEl.disabled = true;  // To prevent multiple clicks.\n",
              "      quickchartButtonEl.classList.add('colab-df-spinner');\n",
              "      try {\n",
              "        const charts = await google.colab.kernel.invokeFunction(\n",
              "            'suggestCharts', [key], {});\n",
              "      } catch (error) {\n",
              "        console.error('Error during call to suggestCharts:', error);\n",
              "      }\n",
              "      quickchartButtonEl.classList.remove('colab-df-spinner');\n",
              "      quickchartButtonEl.classList.add('colab-df-quickchart-complete');\n",
              "    }\n",
              "    (() => {\n",
              "      let quickchartButtonEl =\n",
              "        document.querySelector('#df-3c90e43b-58ec-49a2-902e-4a45683e8402 button');\n",
              "      quickchartButtonEl.style.display =\n",
              "        google.colab.kernel.accessAllowed ? 'block' : 'none';\n",
              "    })();\n",
              "  </script>\n",
              "</div>\n",
              "    </div>\n",
              "  </div>\n"
            ],
            "application/vnd.google.colaboratory.intrinsic+json": {
              "type": "dataframe",
              "variable_name": "airport_weather_dataset"
            }
          },
          "metadata": {},
          "execution_count": 15
        }
      ]
    },
    {
      "cell_type": "code",
      "source": [
        "airport_weather_dataset.columns"
      ],
      "metadata": {
        "colab": {
          "base_uri": "https://localhost:8080/"
        },
        "id": "lGByQuQ9fTJS",
        "outputId": "f38480c5-9e8e-4d9f-8bc2-6edc7444afb7"
      },
      "execution_count": 22,
      "outputs": [
        {
          "output_type": "execute_result",
          "data": {
            "text/plain": [
              "Index(['Date', 'tavg', 'tmin', 'tmax', 'prcp', 'snow', 'wdir', 'wspd', 'wpgt',\n",
              "       'pres', 'tsun', 'Airport Code'],\n",
              "      dtype='object')"
            ]
          },
          "metadata": {},
          "execution_count": 22
        }
      ]
    },
    {
      "cell_type": "code",
      "source": [
        "# Reset the index to convert the date index into a regular column\n",
        "airport_weather_dataset.reset_index(inplace=True)\n",
        "\n",
        "# Display the updated airport_weather_dataset DataFrame\n",
        "print(airport_weather_dataset)"
      ],
      "metadata": {
        "id": "4f6f48PxgMsg",
        "colab": {
          "base_uri": "https://localhost:8080/"
        },
        "outputId": "adff38aa-189c-47ee-8ed0-010baf98c20d"
      },
      "execution_count": 23,
      "outputs": [
        {
          "output_type": "stream",
          "name": "stdout",
          "text": [
            "         index       Date  tavg  tmin  tmax  prcp  snow   wdir  wspd  wpgt  \\\n",
            "0            0 2015-01-01   1.7  -2.7   8.3   0.0   0.0  210.0  13.3   NaN   \n",
            "1            1 2015-01-02   5.3   1.7   9.4   0.0   0.0    NaN   4.7   NaN   \n",
            "2            2 2015-01-03   4.0   1.1   5.6  12.7   0.0    NaN   5.4   NaN   \n",
            "3            3 2015-01-04   9.8   5.6  19.4   5.1   0.0  209.0  20.2   NaN   \n",
            "4            4 2015-01-05   7.8  -1.6  11.1   0.0   0.0  310.0  23.0   NaN   \n",
            "...        ...        ...   ...   ...   ...   ...   ...    ...   ...   ...   \n",
            "102481  102481 2015-12-26   5.5  -1.1   8.3   NaN   NaN   27.0  15.6   NaN   \n",
            "102482  102482 2015-12-27  -2.5  -3.3  -1.1   0.0   NaN   22.0  27.0   NaN   \n",
            "102483  102483 2015-12-28  -4.8  -6.1  -2.8   NaN   NaN    NaN  18.5   NaN   \n",
            "102484  102484 2015-12-29  -4.8 -10.6  -1.1   0.0   NaN    NaN   3.7   NaN   \n",
            "102485  102485 2015-12-30  -2.2  -5.0   0.0   0.0   NaN    NaN   2.6   NaN   \n",
            "\n",
            "          pres  tsun Airport Code  \n",
            "0       1021.6   NaN          DCA  \n",
            "1       1025.5   NaN          DCA  \n",
            "2          NaN   NaN          DCA  \n",
            "3       1012.5   NaN          DCA  \n",
            "4       1025.3   NaN          DCA  \n",
            "...        ...   ...          ...  \n",
            "102481  1016.7   NaN          MHK  \n",
            "102482  1027.8   NaN          MHK  \n",
            "102483     NaN   NaN          MHK  \n",
            "102484  1020.5   NaN          MHK  \n",
            "102485  1026.1   NaN          MHK  \n",
            "\n",
            "[102486 rows x 13 columns]\n"
          ]
        }
      ]
    },
    {
      "cell_type": "code",
      "source": [
        "airport_weather_dataset.rename(columns={'index': 'Date'}, inplace=True)"
      ],
      "metadata": {
        "id": "J5Kgc13TfezK"
      },
      "execution_count": 24,
      "outputs": []
    },
    {
      "cell_type": "code",
      "source": [
        "#file_path = 'path/to/your/file.csv'  # Replace 'path/to/your/file.csv' with the desired file path and name\n",
        "import os\n",
        "os.chdir('/content/drive/MyDrive')\n",
        "# Write the DataFrame to a CSV file\n",
        "#df.to_csv(file_path, index=False)\n",
        "airport_weather_dataset.to_csv('airport_weather_dataset.csv', index=False)"
      ],
      "metadata": {
        "id": "6ZDUddBRe9hn"
      },
      "execution_count": 25,
      "outputs": []
    }
  ]
}